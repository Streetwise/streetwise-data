{
 "cells": [
  {
   "cell_type": "markdown",
   "metadata": {},
   "source": [
    "Download pictures from Mapillary, at the locations listed in a csv file"
   ]
  },
  {
   "cell_type": "code",
   "execution_count": 9,
   "metadata": {},
   "outputs": [],
   "source": [
    "from pymapillary import Mapillary\n",
    "from pymapillary.utils import *\n",
    "import wget\n",
    "import csv"
   ]
  },
  {
   "cell_type": "code",
   "execution_count": 10,
   "metadata": {},
   "outputs": [],
   "source": [
    "# https://www.mapillary.com/developer/api-documentation/#retrieve-image-sources\n",
    "def download_image_by_key(key, image_resolution=320, download_path=None):\n",
    "\n",
    "    \"\"\"Download a image by the key\n",
    "\n",
    "    Args:\n",
    "        key (string): Image key of the image you want to download.\n",
    "        image_resolution (int): Resolution of the image you want to download.\n",
    "        download_path (string): The download path of the file to download.\n",
    "\n",
    "    Return:\n",
    "        (boolean): True if the download is sucessful (for now)\n",
    "\n",
    "    \"\"\"\n",
    "\n",
    "    # Check the image_resolution argument and create the url to download\n",
    "    if image_resolution == 320:\n",
    "        url = \"https://images.mapillary.com/\" + key + \"/thumb-320.jpg\"\n",
    "    elif image_resolution == 640:\n",
    "        url = \"https://images.mapillary.com/\" + key + \"/thumb-640.jpg\"\n",
    "    elif image_resolution == 1024:\n",
    "        url = \"https://images.mapillary.com/\" + key + \"/thumb-1024.jpg\"\n",
    "    elif image_resolution == 2048:\n",
    "        url = \"https://images.mapillary.com/\" + key + \"/thumb-2048.jpg\"\n",
    "\n",
    "    # Use the wget library to download the url\n",
    "    filename = wget.download(url, download_path)\n",
    "\n",
    "    return True"
   ]
  },
  {
   "cell_type": "code",
   "execution_count": 11,
   "metadata": {},
   "outputs": [],
   "source": [
    "lat = []\n",
    "long = []\n",
    "loaded_data = []\n",
    "\n",
    "# Read csv file to array\n",
    "with open(\"data\\\\pic_data_MIT.csv\") as csv_file:\n",
    "    csv_reader = csv.reader(csv_file, delimiter=\";\")\n",
    "    line_count=0\n",
    "    for row in csv_reader:\n",
    "        if line_count != 0:\n",
    "            lat.append(row[7])\n",
    "            long.append(row[8])\n",
    "            loaded_data.append(row)\n",
    "        line_count+=1"
   ]
  },
  {
   "cell_type": "code",
   "execution_count": null,
   "metadata": {},
   "outputs": [],
   "source": [
    "# Create a Mapillary Object\n",
    "key = # The API key\n",
    "map = Mapillary(key)"
   ]
  },
  {
   "cell_type": "code",
   "execution_count": null,
   "metadata": {},
   "outputs": [],
   "source": [
    "for i in range(0,len(lat)-1):\n",
    "    raw_json = map.search_images(closeto = long[i]+\",\"+lat[i], pano=\"false\", per_page=1, radius=100)\n",
    "    if len(raw_json[\"features\"]) > 0:\n",
    "        download_image_by_key(raw_json[\"features\"][0][\"properties\"][\"key\"], 320, \"images320/img\"+str(i)+\".jpg\")"
   ]
  },
  {
   "cell_type": "code",
   "execution_count": 18,
   "metadata": {},
   "outputs": [],
   "source": [
    "import os.path\n",
    "\n",
    "data_store = []\n",
    "\n",
    "# Create new csv file with file names etc\n",
    "for i in range(0,len(lat)-1):\n",
    "    if os.path.isfile(\"images320/img\"+str(i)+\".jpg\"):\n",
    "        data_store.append([\"img\"+str(i)+\".jpg\", loaded_data[i][1], loaded_data[i][9], loaded_data[i][7], loaded_data[i][8]])\n",
    "\n",
    "data_store.insert(0, [\"Filename\", \"QS_Safer\", \"City\", \"Latitude\", \"Longitude\"])"
   ]
  },
  {
   "cell_type": "code",
   "execution_count": 19,
   "metadata": {},
   "outputs": [],
   "source": [
    "with open(\"data/streetwise_data_320.csv\", 'w') as myfile:\n",
    "    wr = csv.writer(myfile)\n",
    "    for row in data_store:\n",
    "        wr.writerow(row)"
   ]
  },
  {
   "cell_type": "code",
   "execution_count": null,
   "metadata": {},
   "outputs": [],
   "source": []
  }
 ],
 "metadata": {
  "kernelspec": {
   "display_name": "Python 3",
   "language": "python",
   "name": "python3"
  },
  "language_info": {
   "codemirror_mode": {
    "name": "ipython",
    "version": 3
   },
   "file_extension": ".py",
   "mimetype": "text/x-python",
   "name": "python",
   "nbconvert_exporter": "python",
   "pygments_lexer": "ipython3",
   "version": "3.7.2"
  }
 },
 "nbformat": 4,
 "nbformat_minor": 4
}
